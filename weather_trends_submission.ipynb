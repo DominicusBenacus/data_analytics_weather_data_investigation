{
 "cells": [
  {
   "cell_type": "markdown",
   "metadata": {},
   "source": [
    "# Weather Trends Submission\n",
    "This is a brief of all essential steps taken to prepare the analysis.\n",
    "## Getting the data\n",
    "### For access and downloading\n",
    "I used the basic SQL expressions like:\n",
    "~~~~ SQL\n",
    "SELECT year, avg_temp FROM city_data WHERE city = 'Detroit'\n",
    "~~~~\n",
    "As you can see my home town is Detroit.\n",
    "### Preparing the data\n",
    "Since both the Detroit and the global array are of different length I decided to cut the first rows of the Detroit data and the last. After that step both arrays have the same lenght and can be easily compared later. This has been done manually using vs studio code editor.\n",
    "## Processing and plotting the data \n",
    "### Read in data \n",
    "For reading in the data pandas offers a pretty convinient way to do so like\n",
    "`\n",
    "```python\n",
    "global_data = pd.read_csv('global_data.csv')\n",
    "# print this and we get this array\n",
    "list has dimensions: (264, 2) AND list is an object of type: <class 'pandas.core.frame.DataFrame'>\n",
    "     year  avg_temp\n",
    "0    1750      9.08\n",
    "1    ...       ...\n",
    "```\n",
    "### Calculate the moving window\n",
    "A little research lead me to the calculation principle behind the moving average. Manually it looks like this:\n",
    "\n",
    "```python \n",
    "# plain python implementationof the moving average \n",
    "for i in range(0,global_data.shape[0]-2):\n",
    "    global_data.loc[global_data.index[i+2],'SMA_3'] = np.round(((global_data.iloc[i,1]+ global_data.iloc[i+1,1] +global_data.iloc[i+2,1])/3),1)\n",
    "```  \n",
    "Finally I found the pandas approach more safe and less error prone since it is a well tested libary and I like libaries.\n",
    "\n",
    "```python \n",
    "global_data['pandas_SMA_7'] = global_data.iloc[:,1].rolling(window=7).mean()\n",
    "```\n",
    "### Plotting the line chart\n",
    "Python offers the matplotlib and I used it for plotting my global and local data overlaying.\n",
    "```python \n",
    "plt.plot(detroit_temp['year'],detroit_temp['pandas_SMA_7'],label='simple_ma_7_detroit')\n",
    "```\n",
    "My key considerations when deciding how to visualize the trends where to make sure that the time scale is synchronized over the years. This is why I pre processed the data and cut the local data at the beginning and end.\n",
    "## Analysis Results \n",
    "This is the plotted comparison Detroit local v.s. global moving average temperature over the years from 1750-2013.\n",
    "![Moving Average Detroit v.s. Global](movingAverageDetroitVsGlobal.png)\n",
    "\n",
    "### Intepretation of the plotted results\n",
    "#### Is your city hotter or cooler on average compared to the global average?\n",
    "Considering the overall difference the answer is Detroit is hotter compared to the overall temerature of th eglobal data\n",
    "\n",
    "#### Has the difference been consistent over time?\n",
    "Taking a look at the data from start of measurement until today there are differences in terms of the time period. Overall Detroit is hotter than the global data. But looking at the early years of the data Detroit hasn't been hotter from 1750 up to 1800. So from 1800 on I would consider detroit as consistently hotter in average.  \n",
    "\n",
    "#### How do the changes in your city’s temperatures over time compare to the changes in the global average?”\n",
    "First, the temperature in Detroit is much more volatile.\n",
    "Second, overall the temperature follows the global trend. So it's been rising up since round about 20 years.\n",
    "\n",
    "#### What does the overall trend look like?\n",
    "Except a very cool period 1820 and 1830, the global trend shows a almost constant temperature between 7.5 and 8.5 degree in average before it's rising strong from 1950 on up to 2015.  \n",
    "\n",
    "#### Is the world getting hotter or cooler?\n",
    "The trend shows that the world is getting hotter\n",
    "\n",
    "#### Has the trend been consistent over the last few hundred years?\n",
    "No, there have been different trends from getting drastically colder up to getting drastically warmer like it is the trand today.\n",
    "\n",
    "### What tools did you use for step? (Python, SQL, Excel, etc)\n",
    "* Python - Matplotlib - csv - Pandas\n",
    "* SQL"
   ]
  },
  {
   "cell_type": "markdown",
   "metadata": {},
   "source": [
    "# Implementation"
   ]
  },
  {
   "cell_type": "code",
   "execution_count": 1,
   "metadata": {
    "collapsed": true
   },
   "outputs": [],
   "source": [
    "import csv\n",
    "import pandas as pd \n",
    "from matplotlib import pyplot as plt "
   ]
  },
  {
   "cell_type": "code",
   "execution_count": 2,
   "metadata": {
    "collapsed": true
   },
   "outputs": [],
   "source": [
    "# read data detroit yearly average temperature\n",
    "detroit_temp = pd.read_csv('detroit.csv')"
   ]
  },
  {
   "cell_type": "code",
   "execution_count": 3,
   "metadata": {
    "collapsed": true
   },
   "outputs": [],
   "source": [
    "# read data global yearly average temperature\n",
    "global_data = pd.read_csv('global_data.csv')"
   ]
  },
  {
   "cell_type": "code",
   "execution_count": 4,
   "metadata": {
    "collapsed": true
   },
   "outputs": [],
   "source": [
    "# The pandas libary method for rolling window for the global data  \n",
    "global_data['pandas_SMA_7'] = global_data.iloc[:,1].rolling(window=7).mean()"
   ]
  },
  {
   "cell_type": "code",
   "execution_count": 5,
   "metadata": {
    "collapsed": true
   },
   "outputs": [],
   "source": [
    "# The pandas libary method for rolling window for the detroit data  \n",
    "detroit_temp['pandas_SMA_7'] = detroit_temp.iloc[:,1].rolling(window=7).mean()"
   ]
  },
  {
   "cell_type": "code",
   "execution_count": 14,
   "metadata": {},
   "outputs": [],
   "source": [
    "# Plooting of the Resutls \n",
    "# execute plotting\n",
    "plt.figure(num=None, figsize=(6, 3.5), dpi=120, facecolor='w', edgecolor='k')\n",
    "plt.plot(detroit_temp['year'],detroit_temp['pandas_SMA_7'],label='simple_ma_7_detroit')\n",
    "plt.plot(global_data['year'],global_data['pandas_SMA_7'],label='simple_ma_7_global')\n",
    "\n",
    "# Plotting Cosmetic\n",
    "plt.legend(loc='lower right')\n",
    "plt.title(\"Weather Trend - Detroit Local Temperature 1750 - 2013\")\n",
    "plt.xlabel(\"year of record\") \n",
    "plt.ylabel(\"moving average of 7\")\n",
    "plt.savefig('movingAverageDetroitVsGlobal.png')\n",
    "plt.show()"
   ]
  }
 ],
 "metadata": {
  "kernelspec": {
   "display_name": "Python 3",
   "language": "python",
   "name": "python3"
  },
  "language_info": {
   "codemirror_mode": {
    "name": "ipython",
    "version": 3
   },
   "file_extension": ".py",
   "mimetype": "text/x-python",
   "name": "python",
   "nbconvert_exporter": "python",
   "pygments_lexer": "ipython3",
   "version": "3.6.3"
  }
 },
 "nbformat": 4,
 "nbformat_minor": 2
}